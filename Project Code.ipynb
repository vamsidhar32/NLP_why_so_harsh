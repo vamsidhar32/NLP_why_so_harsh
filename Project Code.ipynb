{
  "cells": [
    {
      "cell_type": "markdown",
      "metadata": {
        "id": "PK2h4r15ewgb"
      },
      "source": [
        "#  Basic Setup \n",
        "\n"
      ]
    },
    {
      "cell_type": "markdown",
      "metadata": {
        "id": "yTBnY0jHOVkB"
      },
      "source": [
        "> Importing Libraries"
      ]
    },
    {
      "cell_type": "code",
      "execution_count": 260,
      "metadata": {
        "colab": {
          "base_uri": "https://localhost:8080/"
        },
        "id": "xdZeywGGMlNR",
        "outputId": "0132b3d0-ed54-4e0d-8de5-fc3433fd4e2d"
      },
      "outputs": [
        {
          "name": "stdout",
          "output_type": "stream",
          "text": [
            "Looking in indexes: https://pypi.org/simple, https://us-python.pkg.dev/colab-wheels/public/simple/\n",
            "Requirement already satisfied: contractions in /usr/local/lib/python3.8/dist-packages (0.1.73)\n",
            "Requirement already satisfied: textsearch>=0.0.21 in /usr/local/lib/python3.8/dist-packages (from contractions) (0.0.24)\n",
            "Requirement already satisfied: anyascii in /usr/local/lib/python3.8/dist-packages (from textsearch>=0.0.21->contractions) (0.3.1)\n",
            "Requirement already satisfied: pyahocorasick in /usr/local/lib/python3.8/dist-packages (from textsearch>=0.0.21->contractions) (1.4.4)\n",
            "Looking in indexes: https://pypi.org/simple, https://us-python.pkg.dev/colab-wheels/public/simple/\n",
            "Requirement already satisfied: emot in /usr/local/lib/python3.8/dist-packages (3.1)\n"
          ]
        }
      ],
      "source": [
        "import pandas as pd\n",
        "import numpy as np\n",
        "from scipy.sparse import hstack\n",
        "from matplotlib import pyplot as plt\n",
        "import json\n",
        "import re\n",
        "import nltk\n",
        "\n",
        "!pip install contractions\n",
        "import contractions\n",
        "!pip install emot\n",
        "from emot.emo_unicode import EMOTICONS_EMO\n",
        "from nltk.stem import WordNetLemmatizer\n",
        "from nltk.corpus import wordnet\n",
        "\n",
        "\n",
        "from nltk.stem import WordNetLemmatizer\n",
        "from nltk.corpus import stopwords\n",
        "from sklearn.feature_extraction.text import TfidfVectorizer\n",
        "from sklearn.model_selection import train_test_split\n",
        "from sklearn.metrics import f1_score,accuracy_score,classification_report\n",
        "from sklearn.linear_model import LogisticRegression\n",
        "from sklearn.multioutput import ClassifierChain\n",
        "from sklearn.naive_bayes import GaussianNB\n",
        "from warnings import simplefilter\n",
        "from sklearn.exceptions import ConvergenceWarning\n",
        "simplefilter(\"ignore\", category=ConvergenceWarning)"
      ]
    },
    {
      "cell_type": "markdown",
      "metadata": {
        "id": "hdAvnVfEPYD7"
      },
      "source": [
        "> Downloads (For Google Collab)"
      ]
    },
    {
      "cell_type": "code",
      "execution_count": 261,
      "metadata": {
        "colab": {
          "base_uri": "https://localhost:8080/"
        },
        "id": "LrxQDSzAPXFU",
        "outputId": "ac060b30-cfb5-4a36-d0ec-e369ac757235"
      },
      "outputs": [
        {
          "name": "stderr",
          "output_type": "stream",
          "text": [
            "[nltk_data] Downloading package stopwords to /root/nltk_data...\n",
            "[nltk_data]   Package stopwords is already up-to-date!\n",
            "[nltk_data] Downloading package wordnet to /root/nltk_data...\n",
            "[nltk_data]   Package wordnet is already up-to-date!\n",
            "[nltk_data] Downloading package omw-1.4 to /root/nltk_data...\n",
            "[nltk_data]   Package omw-1.4 is already up-to-date!\n",
            "[nltk_data] Downloading package punkt to /root/nltk_data...\n",
            "[nltk_data]   Package punkt is already up-to-date!\n",
            "[nltk_data] Downloading package averaged_perceptron_tagger to\n",
            "[nltk_data]     /root/nltk_data...\n",
            "[nltk_data]   Package averaged_perceptron_tagger is already up-to-\n",
            "[nltk_data]       date!\n"
          ]
        },
        {
          "data": {
            "text/plain": [
              "True"
            ]
          },
          "execution_count": 261,
          "metadata": {},
          "output_type": "execute_result"
        }
      ],
      "source": [
        "nltk.download('stopwords')\n",
        "nltk.download('wordnet')\n",
        "nltk.download('omw-1.4')\n",
        "nltk.download('punkt')\n",
        "nltk.download('averaged_perceptron_tagger')"
      ]
    },
    {
      "cell_type": "markdown",
      "metadata": {
        "id": "_mZav-34Od5n"
      },
      "source": [
        "> Reading Datasets (Train & Test)"
      ]
    },
    {
      "cell_type": "code",
      "execution_count": 316,
      "metadata": {
        "id": "bKfZmIdDOnyi"
      },
      "outputs": [],
      "source": [
        "trainData = pd.read_csv('train.csv')\n",
        "testData  = pd.read_csv('test.csv')"
      ]
    },
    {
      "cell_type": "markdown",
      "metadata": {
        "id": "hIMNu7djeseo"
      },
      "source": [
        "# Pre-Processing"
      ]
    },
    {
      "cell_type": "markdown",
      "metadata": {
        "id": "1t3l5BXZQPo_"
      },
      "source": [
        "> Checking For Null Values"
      ]
    },
    {
      "cell_type": "code",
      "execution_count": 317,
      "metadata": {
        "colab": {
          "base_uri": "https://localhost:8080/"
        },
        "id": "qBk96b4HQSMh",
        "outputId": "bce15075-7181-4fa0-f86b-11c93a723fb6"
      },
      "outputs": [
        {
          "data": {
            "text/plain": [
              "id                 0\n",
              "text               0\n",
              "harsh              0\n",
              "extremely_harsh    0\n",
              "vulgar             0\n",
              "threatening        0\n",
              "disrespect         0\n",
              "targeted_hate      0\n",
              "dtype: int64"
            ]
          },
          "execution_count": 317,
          "metadata": {},
          "output_type": "execute_result"
        }
      ],
      "source": [
        "trainData.isna().sum()"
      ]
    },
    {
      "cell_type": "code",
      "execution_count": 318,
      "metadata": {
        "colab": {
          "base_uri": "https://localhost:8080/"
        },
        "id": "9_gJBKObQZkY",
        "outputId": "6b19106d-f55d-4182-8240-4517c3ffec1f"
      },
      "outputs": [
        {
          "data": {
            "text/plain": [
              "id                 0\n",
              "text               0\n",
              "harsh              0\n",
              "extremely_harsh    0\n",
              "vulgar             0\n",
              "threatening        0\n",
              "disrespect         0\n",
              "targeted_hate      0\n",
              "dtype: int64"
            ]
          },
          "execution_count": 318,
          "metadata": {},
          "output_type": "execute_result"
        }
      ],
      "source": [
        "(trainData == \"?\").sum()"
      ]
    },
    {
      "cell_type": "markdown",
      "metadata": {
        "id": "AVM9KeIMQ4WJ"
      },
      "source": [
        "- No Null Values were found."
      ]
    },
    {
      "cell_type": "markdown",
      "metadata": {
        "id": "z0FmxGwcNvtO"
      },
      "source": [
        "> Checking For Duplicates"
      ]
    },
    {
      "cell_type": "code",
      "execution_count": 319,
      "metadata": {
        "colab": {
          "base_uri": "https://localhost:8080/"
        },
        "id": "eIMLUNCZRCwB",
        "outputId": "ef9179ae-5297-4269-b6b2-12cf839e9f7c"
      },
      "outputs": [
        {
          "data": {
            "text/plain": [
              "0"
            ]
          },
          "execution_count": 319,
          "metadata": {},
          "output_type": "execute_result"
        }
      ],
      "source": [
        "trainData.drop(['id'], axis=1).duplicated().sum()"
      ]
    },
    {
      "cell_type": "markdown",
      "metadata": {
        "id": "3rhYuAmLT2MV"
      },
      "source": [
        "- No Duplicates Were Found"
      ]
    },
    {
      "cell_type": "markdown",
      "metadata": {
        "id": "mrPvaTiWT8Rv"
      },
      "source": [
        "> Exploring Data"
      ]
    },
    {
      "cell_type": "code",
      "execution_count": 320,
      "metadata": {
        "colab": {
          "base_uri": "https://localhost:8080/",
          "height": 337
        },
        "id": "EQxNnuKKUcZ7",
        "outputId": "9e589885-1052-4ac3-fb88-0ba1ed8d265a"
      },
      "outputs": [
        {
          "data": {
            "image/png": "[encoded data removed]",
            "text/plain": [
              "<Figure size 720x360 with 1 Axes>"
            ]
          },
          "metadata": {
            "needs_background": "light"
          },
          "output_type": "display_data"
        }
      ],
      "source": [
        "plt.figure(figsize=(10,5))\n",
        "for column in trainData.columns.values:\n",
        "  if column == \"id\" or column == \"text\":\n",
        "    continue\n",
        "  plt.bar(column,trainData[column].sum())\n",
        "\n",
        "plt.title(\"Label Distribution\")\n",
        "plt.ylabel(\"Number of Occurrences\")\n",
        "plt.show()"
      ]
    },
    {
      "cell_type": "code",
      "execution_count": 322,
      "metadata": {
        "colab": {
          "base_uri": "https://localhost:8080/",
          "height": 885
        },
        "id": "vZXoKqaFWare",
        "outputId": "afccf505-3445-4966-806d-0cd6d696be43"
      },
      "outputs": [
        {
          "data": {
            "text/plain": [
              "<matplotlib.axes._subplots.AxesSubplot at 0x7f45d2914850>"
            ]
          },
          "execution_count": 322,
          "metadata": {},
          "output_type": "execute_result"
        },
        {
          "data": {
            "image/png": "[encoded data removed]",
            "text/plain": [
              "<Figure size 1080x1080 with 2 Axes>"
            ]
          },
          "metadata": {
            "needs_background": "light"
          },
          "output_type": "display_data"
        }
      ],
      "source": [
        "import seaborn as sns\n",
        "plt.figure(figsize=(15,15))\n",
        "sns.heatmap(trainData[[\"harsh\",\"extremely_harsh\",\"vulgar\",\"threatening\",\"disrespect\",\"targeted_hate\"]].corr(), vmin=-1, cmap=\"coolwarm\", annot=True)"
      ]
    },
    {
      "cell_type": "markdown",
      "metadata": {
        "id": "yDJRAGQgUhB-"
      },
      "source": [
        "> Expanding Contractions"
      ]
    },
    {
      "cell_type": "code",
      "execution_count": 267,
      "metadata": {
        "id": "8DKtnOq_KblQ"
      },
      "outputs": [],
      "source": [
        "def ExpandContractions(dataSet):\n",
        "  newColumn = []\n",
        "  for text in dataSet[\"text\"]:\n",
        "      newWords=[]\n",
        "      for word in text.split():\n",
        "          try:\n",
        "              newWords.append(contractions.fix(word)+\" \")\n",
        "          except:\n",
        "              continue      \n",
        "      newColumn.append(\"\".join(newWords))\n",
        "  \n",
        "  #Replacing Text With Expanded Text\n",
        "  dataSet[\"text\"] = newColumn"
      ]
    },
    {
      "cell_type": "markdown",
      "metadata": {
        "id": "Hyd4wWgtVZbk"
      },
      "source": [
        "> Expanding Emoticons"
      ]
    },
    {
      "cell_type": "code",
      "execution_count": 268,
      "metadata": {
        "id": "62l61lIwMWFq"
      },
      "outputs": [],
      "source": [
        "def ExpandEmoticons(dataSet):\n",
        "  #Expanding Contractions in The Dataset\n",
        "  newColumn = []\n",
        "  for text in dataSet[\"text\"]:\n",
        "      for emotes in EMOTICONS_EMO:\n",
        "          text = text.replace(emotes, \" \"+EMOTICONS_EMO[emotes].replace(\" \",\"_\"))\n",
        "      newColumn.append(text)\n",
        "  \n",
        "  #Replacing Text With Expanded Text\n",
        "  dataSet[\"text\"] = newColumn"
      ]
    },
    {
      "cell_type": "markdown",
      "metadata": {
        "id": "Wzkd0h95VpNx"
      },
      "source": [
        "> Removing Speical Characters & Numbers "
      ]
    },
    {
      "cell_type": "code",
      "execution_count": 269,
      "metadata": {
        "id": "hZ-JERwOZwnc"
      },
      "outputs": [],
      "source": [
        "def RemoveNonLanguageContent(dataSet):\n",
        "  #Removing Special Characters & Digits From All Comments\n",
        "  newColumn = []\n",
        "  for text in dataSet[\"text\"]:\n",
        "      newColumn.append(re.sub(r'\\s+', ' ',re.sub('[^A-Za-z ]+','',text)))\n",
        "\n",
        "  #Replacing Old Text Column With New Text Column\n",
        "  dataSet[\"text\"] = newColumn"
      ]
    },
    {
      "cell_type": "markdown",
      "metadata": {
        "id": "q7ITgI2Jun0e"
      },
      "source": [
        "> Removing Stop Words"
      ]
    },
    {
      "cell_type": "code",
      "execution_count": 270,
      "metadata": {
        "id": "rpOjCM-Qusk0"
      },
      "outputs": [],
      "source": [
        "def RemoveStopWords(dataSet):\n",
        "  #Getting A List of Stop Words\n",
        "  stopWords = stopwords.words('english')\n",
        "\n",
        "  #Eliminating Stop Words From Every Comment\n",
        "  newColumn = []\n",
        "  for text in dataSet[\"text\"]:\n",
        "    new_Sentence=[]\n",
        "    for word in text.split():\n",
        "      if(word.lower() not in stopWords):\n",
        "        if(word[:3]==\"www\" and word[:4]==\"http\"):\n",
        "          continue\n",
        "        else:\n",
        "          new_Sentence.append(word+\" \")\n",
        "    newColumn.append(\"\".join(new_Sentence))\n",
        "\n",
        "  #Replacing Old Text Column With New Text Column\n",
        "  dataSet[\"text\"]=newColumn"
      ]
    },
    {
      "cell_type": "markdown",
      "metadata": {
        "id": "jcKPKkQ0WsD9"
      },
      "source": [
        "> Lemmetization"
      ]
    },
    {
      "cell_type": "code",
      "execution_count": 271,
      "metadata": {
        "id": "w5gbPsNAlkVo"
      },
      "outputs": [],
      "source": [
        "def get_pos_tagger(nltk_tag):\n",
        "    PosTag = {\"J\" : wordnet.ADJ,\"V\" : wordnet.VERB,\"R\" : wordnet.ADV,\"N\" : wordnet.NOUN}\n",
        "    return PosTag.get(nltk_tag[0],None)\n",
        "\n",
        "def Lemmetization(dataSet):\n",
        "  lemmatizer = WordNetLemmatizer()\n",
        "  newColumn=[]\n",
        "  for text in dataSet[\"text\"]:\n",
        "      lemmatized_sentence = []\n",
        "      pos_tagged = nltk.pos_tag(nltk.word_tokenize(text))\n",
        "      word_tagged = list(map(lambda x: (x[0], get_pos_tagger(x[1])), pos_tagged))\n",
        "      for word, tag in word_tagged:\n",
        "          if tag is None:\n",
        "              lemmatized_sentence.append(lemmatizer.lemmatize(word))\n",
        "          else:\n",
        "              lemmatized_sentence.append(lemmatizer.lemmatize(word, tag))\n",
        "      newColumn.append(\" \".join(lemmatized_sentence))\n",
        "  #Replacing Old Text Column With New Text Column\n",
        "  dataSet[\"text\"]=newColumn"
      ]
    },
    {
      "cell_type": "markdown",
      "metadata": {
        "id": "L0U1qTzdoIzy"
      },
      "source": [
        "> Pre-Processing (All the Above Steps)"
      ]
    },
    {
      "cell_type": "code",
      "execution_count": 272,
      "metadata": {
        "id": "uqNiga08oHVe"
      },
      "outputs": [],
      "source": [
        "def PreProcess(dataSet):\n",
        "  ExpandContractions(dataSet)\n",
        "  ExpandEmoticons(dataSet)\n",
        "  RemoveNonLanguageContent(dataSet)\n",
        "  RemoveStopWords(dataSet)\n",
        "  Lemmetization(dataSet)"
      ]
    },
    {
      "cell_type": "code",
      "execution_count": 273,
      "metadata": {
        "id": "VfHHA29tv--p"
      },
      "outputs": [],
      "source": [
        "trainData.head()"
      ]
    },
    {
      "cell_type": "code",
      "execution_count": 274,
      "metadata": {
        "id": "JykcckOSwBEf"
      },
      "outputs": [],
      "source": [
        "PreProcess(trainData)\n",
        "PreProcess(testData)"
      ]
    },
    {
      "cell_type": "markdown",
      "metadata": {
        "id": "c_4WrbxLViGN"
      },
      "source": [
        "(Commet Above Code and Uncomment Below Cell To Skip Pre-Processing)"
      ]
    },
    {
      "cell_type": "code",
      "execution_count": 275,
      "metadata": {
        "id": "RD5TpkQCP29l"
      },
      "outputs": [],
      "source": [
        "# trainData = pd.read_csv('preprocess_train.csv')\n",
        "# testData  = pd.read_csv('preprocess_test.csv')"
      ]
    },
    {
      "cell_type": "code",
      "execution_count": 276,
      "metadata": {
        "id": "tJrMSby_lODe"
      },
      "outputs": [],
      "source": [
        "# trainData[\"text\"].fillna(' ',inplace =True)\n",
        "# testData[\"text\"].fillna(' ',inplace=True)"
      ]
    },
    {
      "cell_type": "markdown",
      "metadata": {
        "id": "8zeb1VKIU2cu"
      },
      "source": [
        "# Feature Extraction"
      ]
    },
    {
      "cell_type": "markdown",
      "metadata": {
        "id": "6Hd7H4o_ogu5"
      },
      "source": [
        "> Word Featrues : TF-IDF"
      ]
    },
    {
      "cell_type": "code",
      "execution_count": 277,
      "metadata": {
        "id": "t140qovnVFFq"
      },
      "outputs": [],
      "source": [
        "def VectorizeWords(trainData,testData):\n",
        "  #Setting HyperParameters\n",
        "  wordVectorizer = TfidfVectorizer(\n",
        "      analyzer = \"word\",\n",
        "      lowercase = True,\n",
        "      strip_accents = \"unicode\",\n",
        "      ngram_range = (1,2),\n",
        "      min_df = 2,\n",
        "      max_df = 0.5,\n",
        "      sublinear_tf = True,\n",
        "  )\n",
        "\n",
        "  wordVectorizer.fit(trainData[\"text\"].tolist() + testData[\"text\"].tolist()) \n",
        "  trainFeatures = wordVectorizer.transform(trainData[\"text\"])\n",
        "  testFeatures  = wordVectorizer.transform(testData[\"text\"])\n",
        "\n",
        "  return trainFeatures,testFeatures"
      ]
    },
    {
      "cell_type": "code",
      "execution_count": 278,
      "metadata": {
        "id": "6G-pl61DB4pS"
      },
      "outputs": [],
      "source": [
        "train_Word_Features,test_Word_Features = VectorizeWords(trainData,testData)"
      ]
    },
    {
      "cell_type": "code",
      "execution_count": 279,
      "metadata": {
        "id": "I2TPFeW7hlkP"
      },
      "outputs": [],
      "source": [
        "def VectorizeCharacters(trainData,testData):\n",
        "    character_Vectorizer= TfidfVectorizer(\n",
        "        analyzer = \"char\",\n",
        "        lowercase = True,\n",
        "        strip_accents = \"unicode\", \n",
        "        ngram_range = (2, 6),  \n",
        "        min_df = 2, \n",
        "        max_df = 0.5,\n",
        "        sublinear_tf = True\n",
        "    )\n",
        "\n",
        "    character_Vectorizer.fit(trainData[\"text\"].tolist() + testData[\"text\"].tolist())\n",
        "    trainFeatures = character_Vectorizer.transform(trainData[\"text\"])\n",
        "    testFeatures  = character_Vectorizer.transform(testData[\"text\"])\n",
        "\n",
        "    return trainFeatures, testFeatures"
      ]
    },
    {
      "cell_type": "code",
      "execution_count": 280,
      "metadata": {
        "id": "bOGcVw_5jR4J"
      },
      "outputs": [],
      "source": [
        "train_Character_Features, test_Character_Features = VectorizeCharacters(trainData,testData)"
      ]
    },
    {
      "cell_type": "code",
      "execution_count": 281,
      "metadata": {
        "id": "gxDc4N1VpeIb"
      },
      "outputs": [],
      "source": [
        "train_features = hstack([train_Word_Features, train_Character_Features])\n",
        "test_features  = hstack([test_Word_Features, test_Character_Features])"
      ]
    },
    {
      "cell_type": "markdown",
      "metadata": {
        "id": "y6eAqMPEeqUE"
      },
      "source": [
        "# Model Training & Testing "
      ]
    },
    {
      "cell_type": "markdown",
      "metadata": {
        "id": "GVv5Yf-LesYF"
      },
      "source": [
        "> Train-Test Split"
      ]
    },
    {
      "cell_type": "code",
      "execution_count": 282,
      "metadata": {
        "id": "XHoN0gyAewUe"
      },
      "outputs": [],
      "source": [
        "labels = [\"harsh\",\"extremely_harsh\",\"vulgar\",\"threatening\",\"disrespect\",\"targeted_hate\"]\n",
        "trainX,testX,trainY,testY = train_test_split(train_features,trainData[labels],train_size=0.75)"
      ]
    },
    {
      "cell_type": "markdown",
      "metadata": {
        "id": "GwtYk6xwihLn"
      },
      "source": [
        "> Model Testing "
      ]
    },
    {
      "cell_type": "code",
      "execution_count": 283,
      "metadata": {
        "id": "XNPOxKS0ilYy"
      },
      "outputs": [],
      "source": [
        "def TestModel(modelList,testX,testY,labels):\n",
        "  testP = pd.DataFrame()\n",
        "  for i in range(len(modelList)):\n",
        "    yTrain = testY[labels[i]]\n",
        "    yPred  = modelList[i].predict(testX)\n",
        "    testP[labels[i]] = yPred\n",
        "\n",
        "  print(\"F1 Scores [1]: \",f1_score(testY.values,testP,average=None))\n",
        "  print(\"F1 Scores [0]: \",f1_score(1-testY.values,1-testP,average=None))\n",
        "  print(\"Accuracy  : \",accuracy_score(testY.values,testP))"
      ]
    },
    {
      "cell_type": "markdown",
      "metadata": {
        "id": "RJZS5nqB4Lnv"
      },
      "source": [
        "> Model Outputs"
      ]
    },
    {
      "cell_type": "code",
      "execution_count": 284,
      "metadata": {
        "id": "suyf6aoE4o1W"
      },
      "outputs": [],
      "source": [
        "def PredictOutput(modelList,testIds,testFeatures,labels):\n",
        "  output = pd.DataFrame()\n",
        "  output.insert(0,\"id\",testIds)\n",
        "\n",
        "  for i in range(len(modelList)):\n",
        "    yPred  = modelList[i].predict_proba(testFeatures)[:,1]\n",
        "    output.insert(i+1,labels[i],yPred)\n",
        "  \n",
        "  output.to_csv(\"output.csv\",index=False)"
      ]
    },
    {
      "cell_type": "markdown",
      "metadata": {
        "id": "0TqYvZ-6f6zg"
      },
      "source": [
        "> Logistic Regression"
      ]
    },
    {
      "cell_type": "code",
      "execution_count": 285,
      "metadata": {
        "id": "KsiDoqvEgFB6"
      },
      "outputs": [],
      "source": [
        "import pickle\n",
        "def LogisticRegressionModel(trainX,trainY,labels):\n",
        "  #Multi Label : Different Models For Different Labels\n",
        "  modelList = []\n",
        "  for label in labels:\n",
        "    lrModel = LogisticRegression(solver='liblinear',class_weight = 'balanced')\n",
        "    lrModel.fit(trainX,trainY[label])\n",
        "    pickle.dump(lrModel,open(\"LogisticRegressionLib_\"+label+\".pckl\", 'wb'))\n",
        "    modelList.append(lrModel)\n",
        "\n",
        "  return modelList"
      ]
    },
    {
      "cell_type": "code",
      "execution_count": 286,
      "metadata": {
        "colab": {
          "base_uri": "https://localhost:8080/"
        },
        "id": "KcDqscRfixBq",
        "outputId": "55c42666-a64f-4c48-e130-b90daf3bf6a6"
      },
      "outputs": [
        {
          "name": "stdout",
          "output_type": "stream",
          "text": [
            "F1 Scores [1]:  [0.85211996 0.54166667 0.88822653 0.56809339 0.80444444 0.56275862]\n",
            "F1 Scores [0]:  [0.98205546 0.99147365 0.99285646 0.99750129 0.98742258 0.99278808]\n",
            "Accuracy  :  0.9231871083258729\n"
          ]
        }
      ],
      "source": [
        "# lrModels = LogisticRegressionModel(train_features,trainData[labels],labels)\n",
        "# TestModel(lrModels,testX,testY,labels)\n",
        "# PredictOutput(lrModels,testData[\"id\"],test_features,labels)"
      ]
    },
    {
      "cell_type": "markdown",
      "metadata": {
        "id": "WsgxXznGDg5d"
      },
      "source": [
        ">Naive Bayes"
      ]
    },
    {
      "cell_type": "code",
      "execution_count": 309,
      "metadata": {
        "id": "7xGYnAMaBmxr"
      },
      "outputs": [],
      "source": [
        "from sklearn import naive_bayes\n",
        "def Naive_Bayes(trainX,trainY,labels):\n",
        "  modelList=[]\n",
        "  for label in labels:\n",
        "    Naive_Model = naive_bayes.MultinomialNB()\n",
        "    Naive_Model.fit(trainX, trainY[label])\n",
        "    modelList.append(Naive_Model)\n",
        "  return modelList"
      ]
    },
    {
      "cell_type": "code",
      "execution_count": 310,
      "metadata": {
        "colab": {
          "base_uri": "https://localhost:8080/"
        },
        "id": "8csvQBTS_szx",
        "outputId": "83b24384-1c9e-4c9b-b270-f5cd2faa6f26"
      },
      "outputs": [
        {
          "name": "stdout",
          "output_type": "stream",
          "text": [
            "F1 Scores [1]:  [0.75263158 0.45833333 0.7690387  0.06976744 0.70953437 0.38522427]\n",
            "F1 Scores [0]:  [0.97446914 0.99352238 0.98687229 0.99820604 0.98456099 0.99474053]\n",
            "Accuracy  :  0.9085049239033124\n"
          ]
        }
      ],
      "source": [
        "Naive_Model=Naive_Bayes(train_features, trainData[labels],labels)\n",
        "TestModel(Naive_Model,testX,testY,labels)\n",
        "PredictOutput(Naive_Model,testData[\"id\"],test_features,labels)"
      ]
    },
    {
      "cell_type": "markdown",
      "metadata": {
        "id": "2Glz6HddDl2F"
      },
      "source": [
        ">Support Vector Machine"
      ]
    },
    {
      "cell_type": "code",
      "execution_count": 289,
      "metadata": {
        "id": "EzlWtQT0Bpet"
      },
      "outputs": [],
      "source": [
        "from sklearn import svm\n",
        "def SVM(trainX,trainY,labels):\n",
        "  modelList=[]\n",
        "  for label in labels:\n",
        "    SVM_Model = svm.SVC(C=1.0, kernel='linear', degree=3, gamma='auto')\n",
        "    SVM_Model.fit(trainX, trainY[label])\n",
        "    modelList.append(SVM_Model)\n",
        "  return modelList"
      ]
    },
    {
      "cell_type": "markdown",
      "metadata": {
        "id": "d_uvmtzxxH18"
      },
      "source": [
        "> Chain Classifiers"
      ]
    },
    {
      "cell_type": "code",
      "execution_count": 290,
      "metadata": {
        "id": "QDsjbu3bxU2-"
      },
      "outputs": [],
      "source": [
        "def ChainClassifier(trainX,trainY,model):\n",
        "  classifier = ClassifierChain(model, order='random')\n",
        "  classifier.fit(trainX,trainY)\n",
        "  return classifier"
      ]
    },
    {
      "cell_type": "code",
      "execution_count": 291,
      "metadata": {
        "id": "esav6uqc6_Pj"
      },
      "outputs": [],
      "source": [
        "def ChainClassifierPredict(chain,testIds,testFeatures,labels):\n",
        "  output = pd.DataFrame()\n",
        "  output.insert(0,\"id\",testIds)\n",
        "\n",
        "  yPred = chain.predict_proba(testFeatures)\n",
        "\n",
        "  for i in range(len(labels)):\n",
        "    output.insert(i+1,labels[i],yPred[:,i])\n",
        "  \n",
        "  output.to_csv(\"output.csv\",index=False)"
      ]
    },
    {
      "cell_type": "markdown",
      "metadata": {
        "id": "q_m77s0UEmZg"
      },
      "source": [
        "- Logistic Regression Chain"
      ]
    },
    {
      "cell_type": "code",
      "execution_count": 311,
      "metadata": {
        "id": "k-4Y3zbL9Dsk"
      },
      "outputs": [],
      "source": [
        "classifier = ChainClassifier(train_features,trainData[labels],LogisticRegression())\n",
        "ChainClassifierPredict(classifier,testData[\"id\"],test_features,labels)"
      ]
    },
    {
      "cell_type": "markdown",
      "metadata": {
        "id": "FjPlL7QBEqV6"
      },
      "source": [
        "- Naive Bayes Chain"
      ]
    },
    {
      "cell_type": "code",
      "execution_count": 313,
      "metadata": {
        "id": "Uxy4aqTiEOpd"
      },
      "outputs": [],
      "source": [
        "NBChain = ChainClassifier(train_features,trainData[labels],naive_bayes.MultinomialNB())\n",
        "ChainClassifierPredict(NBChain,testData[\"id\"],test_features,labels)"
      ]
    },
    {
      "cell_type": "markdown",
      "metadata": {
        "id": "pP5j6XYtOm-p"
      },
      "source": [
        "> Random Forest"
      ]
    },
    {
      "cell_type": "code",
      "execution_count": 294,
      "metadata": {
        "id": "9w1Db_gkOzKx"
      },
      "outputs": [],
      "source": [
        "from sklearn.ensemble import RandomForestClassifier\n",
        "import pickle\n",
        "def Random_Forest(trainX,trainY,labels):\n",
        "  modelList=[]\n",
        "  for label in labels:\n",
        "    RF_Model = RandomForestClassifier(max_features = 5000, max_depth = 100, min_samples_split = 10, criterion = 'gini', n_estimators = 120, max_leaf_nodes = None)\n",
        "    RF_Model.fit(trainX, trainY[label])\n",
        "    pickle.dump(RF_Model, open(\"RandomForest_\"+label+\".pckl\", 'wb'))\n",
        "    modelList.append(RF_Model)\n",
        "  return modelList"
      ]
    },
    {
      "cell_type": "code",
      "execution_count": 295,
      "metadata": {
        "id": "pX68J8uxO76Q"
      },
      "outputs": [],
      "source": [
        "Rf_Model=Random_Forest(train_features, trainData[labels[5:]],labels[5:])"
      ]
    },
    {
      "cell_type": "markdown",
      "metadata": {
        "id": "nrT3WzIaN6Ob"
      },
      "source": [
        "- Reading Models"
      ]
    },
    {
      "cell_type": "code",
      "execution_count": 296,
      "metadata": {
        "id": "uSFfccLwN5BG"
      },
      "outputs": [],
      "source": [
        "def ReadModels(modelName,labels):\n",
        "  modelList = []\n",
        "  for label in labels:\n",
        "    modelList.append(pickle.load(open(modelName+\"_\"+label+\".pckl\", 'rb')))\n",
        "  return modelList"
      ]
    },
    {
      "cell_type": "code",
      "execution_count": 297,
      "metadata": {
        "id": "vzoQfM_TOjn_"
      },
      "outputs": [],
      "source": [
        "rfModels = ReadModels(\"RandomForest\",labels)\n",
        "TestModel(rfModels,testX,testY,labels)\n",
        "PredictOutput(rfModels,testData[\"id\"],test_features,labels)"
      ]
    },
    {
      "cell_type": "markdown",
      "metadata": {
        "id": "dQSXj9hIEF3c"
      },
      "source": [
        "> Ridge Classifier"
      ]
    },
    {
      "cell_type": "code",
      "execution_count": 298,
      "metadata": {
        "id": "n86JjelcEIQS"
      },
      "outputs": [],
      "source": [
        "from sklearn.linear_model import RidgeClassifier\n",
        "import pickle\n",
        "\n",
        "def RidgeClassifierModel(trainX,trainY,labels):\n",
        "  modelList = []\n",
        "  for label in labels:\n",
        "    rcModel = RidgeClassifier(solver = 'sag',alpha = 27)\n",
        "    rcModel.fit(trainX,trainY[label])\n",
        "    pickle.dump(rcModel, open(\"RidgeClassifierMax_\"+label+\".pckl\", 'wb'))\n",
        "    modelList.append(rcModel)\n",
        "\n",
        "  return modelList"
      ]
    },
    {
      "cell_type": "code",
      "execution_count": 315,
      "metadata": {
        "id": "ABqrQ3zTKAhD"
      },
      "outputs": [],
      "source": [
        "RidgeClassifierModel(train_features,trainData[labels],labels)\n",
        "rcModels =  ReadModels(\"RidgeClassifierMax\",labels)\n",
        "TestModel(rcModels,testX,testY,labels)"
      ]
    },
    {
      "cell_type": "code",
      "execution_count": 300,
      "metadata": {
        "id": "3RthSDDCRTt-"
      },
      "outputs": [],
      "source": [
        "#There is no predict_proba for ridge classifier\n",
        "def GiveOutput(modelList,testIds,testFeatures,labels):\n",
        "  output = pd.DataFrame()\n",
        "  output.insert(0,\"id\",testIds)\n",
        "\n",
        "  for i in range(len(modelList)):\n",
        "    yPred  = modelList[i].predict(testFeatures)\n",
        "    output.insert(i+1,labels[i],yPred)\n",
        "  \n",
        "  output.to_csv(\"output.csv\",index=False)"
      ]
    },
    {
      "cell_type": "code",
      "execution_count": 301,
      "metadata": {
        "id": "slkyvU4DJ9h7"
      },
      "outputs": [],
      "source": [
        "rcModels = ReadModels(\"RidgeClassifierMax\",labels)\n",
        "GiveOutput(rcModels,testData[\"id\"],test_features,labels)"
      ]
    },
    {
      "cell_type": "markdown",
      "metadata": {
        "id": "ED-zG8uWRZ7u"
      },
      "source": [
        "> Logistic Regression (Cross Validation)"
      ]
    },
    {
      "cell_type": "code",
      "execution_count": 302,
      "metadata": {
        "id": "_nPy4uTlRgPS"
      },
      "outputs": [],
      "source": [
        "from sklearn.linear_model import LogisticRegressionCV\n",
        "def LogisticRegressioncv(trainX,trainY,labels):\n",
        "  #Multi Label : Different Models For Different Labels\n",
        "  modelList = []\n",
        "  for label in labels:\n",
        "    lrCVModel = LogisticRegressionCV(solver = 'sag', n_jobs = -1)\n",
        "    lrCVModel.fit(trainX,trainY[label])\n",
        "    pickle.dump(lrCVModel, open(\"LogisticRegressionCVMax_\"+label+\".pckl\", 'wb'))\n",
        "    modelList.append(lrCVModel)\n",
        "  return modelList"
      ]
    },
    {
      "cell_type": "code",
      "execution_count": 303,
      "metadata": {
        "id": "YYCSevSj5m5F"
      },
      "outputs": [],
      "source": [
        "LogisticRegressioncv(train_features,trainData[labels],labels)\n",
        "lrCVModels = ReadModels(\"LogisticRegressionCVMax\",labels)\n",
        "TestModel(lrCVModels,testX,testY,labels)\n",
        "PredictOutput(lrCVModels,testData[\"id\"],test_features,labels)"
      ]
    },
    {
      "cell_type": "markdown",
      "metadata": {
        "id": "xzAjB6kU9TE2"
      },
      "source": [
        "> Logistic Regression (Grid Search CV)"
      ]
    },
    {
      "cell_type": "code",
      "execution_count": 304,
      "metadata": {
        "id": "CJiQJyyD-bAH"
      },
      "outputs": [],
      "source": [
        "from sklearn.model_selection import GridSearchCV\n",
        "def FindBestParameters(trainX,trainY,labels,model,parameters):\n",
        "  #Best Estimator Model\n",
        "  modelList = []\n",
        "  for label in labels:\n",
        "    #Setting Grid Search Parameters & Estimator\n",
        "    modelGrid = GridSearchCV(model,parameters)\n",
        "    modelGrid.fit(trainX,trainY[label])\n",
        "    \n",
        "    #Storing & Displaying Best Estimator\n",
        "    pickle.dump(modelGrid.best_estimator_,open(\"LogisticRegressionGrid_\"+label+\".pckl\", 'wb'))\n",
        "    modelList.append(modelGrid.best_estimator_)\n",
        "    print(\"Label : \" + label + \"; Parameters : \",end = \"\")\n",
        "    print(modelGrid.best_params_)\n",
        "  \n",
        "  return modelList"
      ]
    },
    {
      "cell_type": "code",
      "execution_count": 305,
      "metadata": {
        "id": "8qV2IkPcCfCL"
      },
      "outputs": [],
      "source": [
        "FindBestParameters(train_features,trainData[labels[1:]],labels[1:],LogisticRegression(class_weight=\"balanced\"),{\"C\":[0.2*x for x in range(1,6)]})"
      ]
    },
    {
      "cell_type": "code",
      "execution_count": 306,
      "metadata": {
        "id": "mvvVjeqe0gPV"
      },
      "outputs": [],
      "source": [
        "lrGridModels = ReadModels(\"LogisticRegressionGrid\",labels)\n",
        "TestModel(lrGridModels,testX,testY,labels)\n",
        "PredictOutput(lrGridModels,testData[\"id\"],test_features,labels)"
      ]
    },
    {
      "cell_type": "markdown",
      "metadata": {
        "id": "FWzGalTMHbq9"
      },
      "source": [
        "> Ridge Regression"
      ]
    },
    {
      "cell_type": "code",
      "execution_count": 307,
      "metadata": {
        "id": "6IJAAJwcHki5"
      },
      "outputs": [],
      "source": [
        "from sklearn.linear_model import Ridge\n",
        "\n",
        "def RidgeModel(trainX,trainY,labels):\n",
        "  modelList = []\n",
        "  for label in labels:\n",
        "    rcModel = Ridge(alpha=14,solver='sag', max_iter=1000)\n",
        "    rcModel.fit(trainX,trainY[label])\n",
        "    pickle.dump(rcModel, open(\"RidgeMax_\"+label+\".pckl\", 'wb'))\n",
        "    modelList.append(rcModel)\n",
        "\n",
        "  return modelList"
      ]
    },
    {
      "cell_type": "code",
      "execution_count": 308,
      "metadata": {
        "id": "e3ghxWzkICuj"
      },
      "outputs": [],
      "source": [
        "RidgeModel(train_features,trainData[labels],labels)\n",
        "rciModels = ReadModels(\"RidgeMax\",labels)\n",
        "GiveOutput(rciModels,testData[\"id\"],test_features,labels)"
      ]
    }
  ],
  "metadata": {
    "colab": {
      "collapsed_sections": [
        "PK2h4r15ewgb",
        "hIMNu7djeseo",
        "8zeb1VKIU2cu"
      ],
      "provenance": []
    },
    "kernelspec": {
      "display_name": "Python 3.10.8 64-bit (microsoft store)",
      "language": "python",
      "name": "python3"
    },
    "language_info": {
      "name": "python",
      "version": "3.10.8"
    },
    "vscode": {
      "interpreter": {
        "hash": "3fc1479604e794d73fed5596f985261ebd8f753a0ec07b5938a9ca4472d2f808"
      }
    }
  },
  "nbformat": 4,
  "nbformat_minor": 0
}
